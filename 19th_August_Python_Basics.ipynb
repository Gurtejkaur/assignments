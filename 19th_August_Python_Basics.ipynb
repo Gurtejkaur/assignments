{
 "cells": [
  {
   "cell_type": "markdown",
   "id": "2eeb1f30-032b-453a-b45c-06f0a5a2e291",
   "metadata": {},
   "source": [
    "# TOPIC: Python Basics Variable"
   ]
  },
  {
   "cell_type": "markdown",
   "id": "2dbf5680-f491-4ee3-b807-3cd886bb4b16",
   "metadata": {},
   "source": [
    "## Q1.  swapping of two numbers"
   ]
  },
  {
   "cell_type": "code",
   "execution_count": 52,
   "id": "2f7ee839-6626-443c-8ed7-44de9dea0841",
   "metadata": {},
   "outputs": [],
   "source": [
    "x,y=10,20"
   ]
  },
  {
   "cell_type": "code",
   "execution_count": 53,
   "id": "bc9b5c5a-a87f-4393-87a5-2cd9dd276f68",
   "metadata": {},
   "outputs": [
    {
     "data": {
      "text/plain": [
       "(10, 20)"
      ]
     },
     "execution_count": 53,
     "metadata": {},
     "output_type": "execute_result"
    }
   ],
   "source": [
    "x, y  ## orginal values"
   ]
  },
  {
   "cell_type": "code",
   "execution_count": 54,
   "id": "93109160-4ea9-467d-9973-41cccc3cd60c",
   "metadata": {},
   "outputs": [],
   "source": [
    "x,y=y,x"
   ]
  },
  {
   "cell_type": "code",
   "execution_count": 55,
   "id": "f3810f7b-1fb3-4204-ad5d-ca696871f9af",
   "metadata": {},
   "outputs": [
    {
     "data": {
      "text/plain": [
       "(20, 10)"
      ]
     },
     "execution_count": 55,
     "metadata": {},
     "output_type": "execute_result"
    }
   ],
   "source": [
    "x, y  ## swaaped values"
   ]
  },
  {
   "cell_type": "markdown",
   "id": "d79a56d2-25a3-436c-8c3e-7df304dff60d",
   "metadata": {},
   "source": [
    "## Q2 To calculate area of a rectangle"
   ]
  },
  {
   "cell_type": "code",
   "execution_count": 7,
   "id": "81eaf9c7-bb77-4578-b07b-fa2d53e057ec",
   "metadata": {},
   "outputs": [
    {
     "name": "stdin",
     "output_type": "stream",
     "text": [
      " 10\n"
     ]
    }
   ],
   "source": [
    "l = int(input())  ## input the length of rectangle"
   ]
  },
  {
   "cell_type": "code",
   "execution_count": 8,
   "id": "641dbb09-c305-436b-9dcd-1ed145d945f7",
   "metadata": {},
   "outputs": [
    {
     "name": "stdin",
     "output_type": "stream",
     "text": [
      " 30\n"
     ]
    }
   ],
   "source": [
    "b = int(input())  ## input the width of rectangle"
   ]
  },
  {
   "cell_type": "code",
   "execution_count": 9,
   "id": "c2752445-c232-479e-978d-1b00b7a1af5c",
   "metadata": {},
   "outputs": [],
   "source": [
    "Area = l*b   ## formula for area of rectangle"
   ]
  },
  {
   "cell_type": "code",
   "execution_count": 10,
   "id": "d6f60af8-3ee0-40be-a7b9-0188ecc64073",
   "metadata": {},
   "outputs": [
    {
     "data": {
      "text/plain": [
       "300"
      ]
     },
     "execution_count": 10,
     "metadata": {},
     "output_type": "execute_result"
    }
   ],
   "source": [
    "Area   ## area of rectangle "
   ]
  },
  {
   "cell_type": "markdown",
   "id": "95c7d998-1553-49cf-b422-22ebd7dc336b",
   "metadata": {},
   "source": [
    "## Q3 Conversion from celsius to Fahrenheit."
   ]
  },
  {
   "cell_type": "code",
   "execution_count": 15,
   "id": "c42fd486-d1f8-4149-8ad1-26a77cfd624a",
   "metadata": {},
   "outputs": [
    {
     "name": "stdin",
     "output_type": "stream",
     "text": [
      " 23.53\n"
     ]
    }
   ],
   "source": [
    "ce = float(input())  ## input temp in celsius"
   ]
  },
  {
   "cell_type": "code",
   "execution_count": 16,
   "id": "943fa053-e1a2-42be-b601-6454b13e1c21",
   "metadata": {},
   "outputs": [],
   "source": [
    "f =  9/5*ce+32    ##  formula for conversion from celsius to Fahrenheit."
   ]
  },
  {
   "cell_type": "code",
   "execution_count": 17,
   "id": "b1c1aaf9-2259-477e-b701-75ed5d2f89c5",
   "metadata": {},
   "outputs": [
    {
     "data": {
      "text/plain": [
       "74.35400000000001"
      ]
     },
     "execution_count": 17,
     "metadata": {},
     "output_type": "execute_result"
    }
   ],
   "source": [
    "f    ## temp in Fahrenheit"
   ]
  },
  {
   "cell_type": "markdown",
   "id": "14f7eba2-2099-456a-826d-f24313dd6dc1",
   "metadata": {},
   "source": [
    "# TOPIC: String Based Questions"
   ]
  },
  {
   "cell_type": "markdown",
   "id": "138b33d8-b27f-4c74-b1ca-7b0fde37151d",
   "metadata": {},
   "source": [
    "## Q1 calculate the length of the string."
   ]
  },
  {
   "cell_type": "code",
   "execution_count": 19,
   "id": "0a983753-9b77-47c5-b67a-2d240f328588",
   "metadata": {},
   "outputs": [
    {
     "name": "stdin",
     "output_type": "stream",
     "text": [
      " Happy\n"
     ]
    }
   ],
   "source": [
    "S = input() # enter the string "
   ]
  },
  {
   "cell_type": "code",
   "execution_count": 23,
   "id": "7f296b15-0114-4036-8184-126071b4f429",
   "metadata": {},
   "outputs": [],
   "source": [
    "l = len(S) # function to calculate the length of the string"
   ]
  },
  {
   "cell_type": "code",
   "execution_count": 24,
   "id": "df2f5b89-8964-4efa-8905-dc393ccd1784",
   "metadata": {},
   "outputs": [
    {
     "data": {
      "text/plain": [
       "5"
      ]
     },
     "execution_count": 24,
     "metadata": {},
     "output_type": "execute_result"
    }
   ],
   "source": [
    "l # length of the string"
   ]
  },
  {
   "cell_type": "markdown",
   "id": "99101b71-e2d7-4a2c-9594-19a69785152b",
   "metadata": {},
   "source": [
    "## Q2. counts the number of vowels (a, e, i, o, u) in the string."
   ]
  },
  {
   "cell_type": "code",
   "execution_count": 28,
   "id": "bb94bb60-fac7-4976-a70b-e118a2a78c1d",
   "metadata": {},
   "outputs": [
    {
     "name": "stdin",
     "output_type": "stream",
     "text": [
      " animal\n"
     ]
    }
   ],
   "source": [
    "word  = input()  # enter the string"
   ]
  },
  {
   "cell_type": "code",
   "execution_count": 29,
   "id": "414c960a-9e82-443b-90f9-b73a54eaae13",
   "metadata": {},
   "outputs": [],
   "source": [
    "N = word.count(\"a\")+word.count(\"e\")+word.count(\"i\")+word.count(\"o\")+word.count(\"u\") # function to count the number of vowles in the string"
   ]
  },
  {
   "cell_type": "code",
   "execution_count": 30,
   "id": "41bbfba6-dd62-4fcf-8d29-021c7d0cb6fd",
   "metadata": {},
   "outputs": [
    {
     "data": {
      "text/plain": [
       "3"
      ]
     },
     "execution_count": 30,
     "metadata": {},
     "output_type": "execute_result"
    }
   ],
   "source": [
    "N # number of vowles in the string"
   ]
  },
  {
   "cell_type": "markdown",
   "id": "b5ffc465-bdef-48f4-a996-5102a431038e",
   "metadata": {},
   "source": [
    "## Q3. Reverse the order of characters using string slicing and print the reversed string."
   ]
  },
  {
   "cell_type": "code",
   "execution_count": 31,
   "id": "ecd5efc0-b5c6-4f9d-9642-3a4a45278a8b",
   "metadata": {},
   "outputs": [
    {
     "name": "stdin",
     "output_type": "stream",
     "text": [
      " Myclass\n"
     ]
    }
   ],
   "source": [
    "S = input() # enter the string"
   ]
  },
  {
   "cell_type": "code",
   "execution_count": 32,
   "id": "0c038ed2-4944-41a5-9f86-8851d1b2d2ae",
   "metadata": {},
   "outputs": [],
   "source": [
    "Re = S[-1::-1] # Reverse the order of characters using string slicing."
   ]
  },
  {
   "cell_type": "code",
   "execution_count": 33,
   "id": "d2071c8b-9e85-4dc8-bb65-5bcfd07b1f92",
   "metadata": {},
   "outputs": [
    {
     "data": {
      "text/plain": [
       "'ssalcyM'"
      ]
     },
     "execution_count": 33,
     "metadata": {},
     "output_type": "execute_result"
    }
   ],
   "source": [
    "Re  # print the reversed string"
   ]
  },
  {
   "cell_type": "markdown",
   "id": "c310a182-f651-4b7b-acb6-253b4d9db4e2",
   "metadata": {},
   "source": [
    "## Q4.checks if string is a palindrome (reads the same forwards and backwards)."
   ]
  },
  {
   "cell_type": "code",
   "execution_count": 34,
   "id": "fafac6ca-2768-41e2-b47d-1f4e55775a77",
   "metadata": {},
   "outputs": [
    {
     "name": "stdin",
     "output_type": "stream",
     "text": [
      " mmaamm\n"
     ]
    }
   ],
   "source": [
    "M = input() # enter the string and read forward"
   ]
  },
  {
   "cell_type": "code",
   "execution_count": 36,
   "id": "d74cd7e4-e6b5-4318-8627-9955696a47f0",
   "metadata": {},
   "outputs": [],
   "source": [
    "re  = M[-1::-1]# read the string backward"
   ]
  },
  {
   "cell_type": "code",
   "execution_count": 41,
   "id": "106f8f57-a694-46e5-920e-3df372c57870",
   "metadata": {},
   "outputs": [],
   "source": [
    " pa = M==re # check if string is a palindrome"
   ]
  },
  {
   "cell_type": "code",
   "execution_count": 42,
   "id": "2c6c2cf9-900b-4dde-9d6c-acc58c440e8c",
   "metadata": {},
   "outputs": [
    {
     "data": {
      "text/plain": [
       "True"
      ]
     },
     "execution_count": 42,
     "metadata": {},
     "output_type": "execute_result"
    }
   ],
   "source": [
    "pa # display the boolean output true or false"
   ]
  },
  {
   "cell_type": "markdown",
   "id": "22ed8f79-99ab-4b00-9324-51391f4ddba5",
   "metadata": {},
   "source": [
    "## Q5. Removes all the spaces from a string."
   ]
  },
  {
   "cell_type": "code",
   "execution_count": 43,
   "id": "3314772c-1e7d-408a-877e-b8c31f4c1ff5",
   "metadata": {},
   "outputs": [
    {
     "name": "stdin",
     "output_type": "stream",
     "text": [
      " My First class\n"
     ]
    }
   ],
   "source": [
    "Sp  = input() # enter the string with spaces "
   ]
  },
  {
   "cell_type": "code",
   "execution_count": 49,
   "id": "916e3cdd-91cf-4dd1-bbe7-83c7ad9d182e",
   "metadata": {},
   "outputs": [],
   "source": [
    "S = Sp.replace(\" \", \"\") # function to remove spaces from a string"
   ]
  },
  {
   "cell_type": "code",
   "execution_count": 50,
   "id": "def1ad91-67b8-4af8-9e59-dacf414894e8",
   "metadata": {},
   "outputs": [
    {
     "data": {
      "text/plain": [
       "'MyFirstclass'"
      ]
     },
     "execution_count": 50,
     "metadata": {},
     "output_type": "execute_result"
    }
   ],
   "source": [
    "S # display the final string"
   ]
  },
  {
   "cell_type": "code",
   "execution_count": null,
   "id": "9c525a0c-b713-4b69-a5fe-a72a8c4e4dfe",
   "metadata": {},
   "outputs": [],
   "source": []
  }
 ],
 "metadata": {
  "kernelspec": {
   "display_name": "Python 3 (ipykernel)",
   "language": "python",
   "name": "python3"
  },
  "language_info": {
   "codemirror_mode": {
    "name": "ipython",
    "version": 3
   },
   "file_extension": ".py",
   "mimetype": "text/x-python",
   "name": "python",
   "nbconvert_exporter": "python",
   "pygments_lexer": "ipython3",
   "version": "3.10.8"
  }
 },
 "nbformat": 4,
 "nbformat_minor": 5
}
